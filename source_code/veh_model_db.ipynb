{
 "cells": [
  {
   "cell_type": "code",
   "execution_count": 1,
   "id": "acfccfef",
   "metadata": {},
   "outputs": [],
   "source": [
    "import pandas as pd"
   ]
  },
  {
   "cell_type": "code",
   "execution_count": 12,
   "id": "4eb3b0d9",
   "metadata": {},
   "outputs": [],
   "source": [
    "hyundai_file = r\"..\\Assets\\vehicle_models_db\\HYUNDAI SEP25.xlsx\"\n",
    "\n",
    "db_directory = r\"..\\Assets\\vehicle_models_db\""
   ]
  },
  {
   "cell_type": "code",
   "execution_count": null,
   "id": "20858389",
   "metadata": {},
   "outputs": [],
   "source": []
  },
  {
   "cell_type": "code",
   "execution_count": null,
   "id": "fbb7bb0a",
   "metadata": {},
   "outputs": [],
   "source": [
    "import pandas as pd\n",
    "import os\n",
    "from openpyxl import load_workbook\n",
    "\n",
    "def update_vehicle_database_from_excel(excel_file, directory):\n",
    "    \"\"\"\n",
    "    Reads an Excel file with multiple worksheets and updates a vehicle model database CSV file.\n",
    "    Only adds new records that do not already exist based on Model, Description, Trim, and Year.\n",
    "\n",
    "    Parameters:\n",
    "    - excel_file: Path to the Excel file containing vehicle data.\n",
    "    - directory: Directory where the vehicle_model_db.csv file is stored or should be created.\n",
    "    \"\"\"\n",
    "    # Ensure the directory exists\n",
    "    os.makedirs(directory, exist_ok=True)\n",
    "\n",
    "    # Define the path to the database file\n",
    "    db_file = os.path.join(directory, \"vehicle_model_db.csv\")\n",
    "\n",
    "    # Load existing database or create an empty DataFrame\n",
    "    if os.path.exists(db_file):\n",
    "        df_existing = pd.read_csv(db_file)\n",
    "    else:\n",
    "        df_existing = pd.DataFrame(columns=[\"Model\", \"Trim\", \"Year\", \"Description\", \"Active\"])\n",
    "\n",
    "    # Load the Excel workbook\n",
    "    wb = load_workbook(excel_file, data_only=True)\n",
    "\n",
    "    # List to collect new records\n",
    "    new_records = []\n",
    "\n",
    "    # Process each worksheet\n",
    "    for sheet_name in wb.sheetnames:\n",
    "        ws = wb[sheet_name]\n",
    "        year = ''.join(filter(str.isdigit, sheet_name))  # Extract numeric year from sheet name\n",
    "\n",
    "        # Extract headers\n",
    "        headers = [cell.value for cell in ws[1]]\n",
    "        try:\n",
    "            model_idx = headers.index(\"Model\")\n",
    "            desc_idx = headers.index(\"Description\")\n",
    "            trim_idx = headers.index(\"Description 2\")\n",
    "        except ValueError:\n",
    "            continue  # Skip sheet if required columns are missing\n",
    "\n",
    "        # Extract data rows\n",
    "        for row in ws.iter_rows(min_row=2, values_only=True):\n",
    "            model = row[model_idx]\n",
    "            desc = row[desc_idx]\n",
    "            trim = row[trim_idx]\n",
    "            if model and desc and trim:\n",
    "                record = {\n",
    "                    \"Model\": model,\n",
    "                    \"Trim\": trim,\n",
    "                    \"Year\": year,\n",
    "                    \"Description\": desc,\n",
    "                    \"Active\": True,\n",
    "                }\n",
    "                new_records.append(record)\n",
    "\n",
    "    # Convert new records to DataFrame\n",
    "    df_new = pd.DataFrame(new_records)\n",
    "\n",
    "    # Combine and drop duplicates based on Model, Description, Trim, Year\n",
    "    df_combined = pd.concat([df_existing, df_new], ignore_index=True)\n",
    "    df_combined.drop_duplicates(subset=[\"Model\", \"Description\", \"Trim\", \"Year\"], keep='first', inplace=True)\n",
    "\n",
    "    # Save updated database\n",
    "    df_combined.to_csv(db_file, index=False)\n",
    "    print(f\"Database updated at {db_file}. Total records: {len(df_combined)}\")\n",
    "\n",
    "    "
   ]
  },
  {
   "cell_type": "code",
   "execution_count": 28,
   "id": "33662541",
   "metadata": {},
   "outputs": [
    {
     "name": "stdout",
     "output_type": "stream",
     "text": [
      "Database updated at ..\\Assets\\vehicle_models_db\\vehicle_model_db.csv. Total records: 91\n"
     ]
    }
   ],
   "source": [
    "update_vehicle_database_from_excel(hyundai_file, db_directory)"
   ]
  }
 ],
 "metadata": {
  "kernelspec": {
   "display_name": "Python 3",
   "language": "python",
   "name": "python3"
  },
  "language_info": {
   "codemirror_mode": {
    "name": "ipython",
    "version": 3
   },
   "file_extension": ".py",
   "mimetype": "text/x-python",
   "name": "python",
   "nbconvert_exporter": "python",
   "pygments_lexer": "ipython3",
   "version": "3.13.7"
  }
 },
 "nbformat": 4,
 "nbformat_minor": 5
}
