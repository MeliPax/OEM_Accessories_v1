{
 "cells": [
  {
   "cell_type": "code",
   "execution_count": 1,
   "id": "f56082f0",
   "metadata": {},
   "outputs": [],
   "source": [
    "import pandas as pd"
   ]
  },
  {
   "cell_type": "code",
   "execution_count": 45,
   "id": "681e9b32",
   "metadata": {},
   "outputs": [],
   "source": [
    "hunday_models = r'..\\Assets\\vehicle_models_db\\HYUNDAI SEP25.xlsx'\n",
    "\n",
    "# I want to read all the sheets in this excel file and combine them into a single dataframe for easier searching nad they have the sames columns structure. Create a new column and name it Year and the value should be the name of the sheet it came from.\n",
    "xls = pd.ExcelFile(hunday_models)\n",
    "df = pd.DataFrame()\n",
    "for sheet_name in xls.sheet_names:\n",
    "    temp_df = pd.read_excel(xls, sheet_name=sheet_name)\n",
    "    temp_df['Year'] = sheet_name\n",
    "    df = pd.concat([df, temp_df], ignore_index=True)   \n",
    "# df.to_csv('hyundai_models.csv', index=False)\n"
   ]
  },
  {
   "cell_type": "code",
   "execution_count": 46,
   "id": "c9bfea1f",
   "metadata": {},
   "outputs": [],
   "source": [
    "\n",
    "# df.columns = df.columns.str.strip()\n",
    "df = df.map(lambda x: x.strip() if isinstance(x, str) else x) \n"
   ]
  },
  {
   "cell_type": "code",
   "execution_count": 47,
   "id": "35faecab",
   "metadata": {},
   "outputs": [],
   "source": [
    "df.drop(columns=['CPR', 'LR', 'FI', 'FLRR',\n",
    "       'SF1-24', 'SF25-36', 'SF37-48', 'SF49-60', 'SF61-72', 'SF73-84',\n",
    "       'BF60-84', 'SF85-96', 'SRF12-24', 'SRF25-36', 'SRF37-48', 'SRF49-60',\n",
    "       'SRF61-72', 'SRF73-84', 'SRF85-96', 'SRBF60-84', 'NPFI', 'NPRR',\n",
    "       'T6NR24-72', 'T5NR24-84', 'T4NR24-84', 'T3NR24-84', 'T2NR24-96', 'LI',\n",
    "       'LLRR', 'SL24', 'SL33', 'SL36', 'SL39', 'SL48', 'SL60', 'SRL36',\n",
    "       'SRL48', 'SRL60', 'RV24', 'RV33', 'RV36', 'RV39', 'RV48', 'RV60', 'MAR', 'TACR1-24', 'TACR25-36', 'TACR37-48', 'TACR49-60', 'TACR61-72',\n",
    "       'TACR73-84', 'TACBR60-84', 'Column1', 'TCCR1-24', 'TCCR25-36',\n",
    "       'TCCR37-48', 'TCCR49-60', 'TCCR61-72', 'TCCR73-84', 'TCCBR60-84',\n",
    "       'CLRR', 'CT3SR24-84', 'CT4SR24-84', 'CT5SR24-84', 'CT6SR24-84'], axis=1, inplace=True)"
   ]
  },
  {
   "cell_type": "code",
   "execution_count": null,
   "id": "ff0b2618",
   "metadata": {},
   "outputs": [
    {
     "data": {
      "text/plain": [
       "Index(['Model', 'Description ', 'Description 2', 'Year', 'Description'], dtype='object')"
      ]
     },
     "execution_count": 50,
     "metadata": {},
     "output_type": "execute_result"
    }
   ],
   "source": [
    "# df[df['Description']== \"NaN\"]\n"
   ]
  },
  {
   "cell_type": "code",
   "execution_count": null,
   "id": "ff13d8fd",
   "metadata": {},
   "outputs": [],
   "source": [
    "# in df named \"df\" create a new column Model_Name, and to obtain the valure, check in columns 'Description ' and 'Description', if one has the value and the other is NaN, then take the value that is not NaN, if both have values, then concatenate them with a space in between, if both are NaN, then the value should be NaN.Then the new column will be teh second column and the two columns  will be at the end of the dataframe.\n",
    "df['Model_Name'] = df.apply(lambda row: row['Description'] if pd.isna(row['Description ']) else (row['Description '] if pd.isna(row['Description']) else (str(row['Description ']) + ' ' + str(row['Description']))), axis=1)\n",
    "df.insert(1, 'Model_Name', df.pop('Model_Name'))"
   ]
  },
  {
   "cell_type": "code",
   "execution_count": 58,
   "id": "c3e05d78",
   "metadata": {},
   "outputs": [],
   "source": [
    "df =df[['Model', 'Year', 'Model_Name', 'Description 2',  'Description', 'Description ']]"
   ]
  },
  {
   "cell_type": "code",
   "execution_count": 83,
   "id": "fa2b8875",
   "metadata": {},
   "outputs": [
    {
     "data": {
      "text/html": [
       "<div>\n",
       "<style scoped>\n",
       "    .dataframe tbody tr th:only-of-type {\n",
       "        vertical-align: middle;\n",
       "    }\n",
       "\n",
       "    .dataframe tbody tr th {\n",
       "        vertical-align: top;\n",
       "    }\n",
       "\n",
       "    .dataframe thead th {\n",
       "        text-align: right;\n",
       "    }\n",
       "</style>\n",
       "<table border=\"1\" class=\"dataframe\">\n",
       "  <thead>\n",
       "    <tr style=\"text-align: right;\">\n",
       "      <th></th>\n",
       "      <th>Model</th>\n",
       "      <th>Year</th>\n",
       "      <th>Model_Name</th>\n",
       "      <th>Description 2</th>\n",
       "      <th>Description</th>\n",
       "      <th>Description</th>\n",
       "    </tr>\n",
       "  </thead>\n",
       "  <tbody>\n",
       "  </tbody>\n",
       "</table>\n",
       "</div>"
      ],
      "text/plain": [
       "Empty DataFrame\n",
       "Columns: [Model, Year, Model_Name, Description 2, Description, Description ]\n",
       "Index: []"
      ]
     },
     "execution_count": 83,
     "metadata": {},
     "output_type": "execute_result"
    }
   ],
   "source": [
    "df[df[\"Description\"] == \"Nan\"]"
   ]
  },
  {
   "cell_type": "code",
   "execution_count": 88,
   "id": "86ac3389",
   "metadata": {},
   "outputs": [
    {
     "name": "stderr",
     "output_type": "stream",
     "text": [
      "C:\\Users\\paxm\\AppData\\Local\\Temp\\ipykernel_8100\\2606897353.py:1: SettingWithCopyWarning: \n",
      "A value is trying to be set on a copy of a slice from a DataFrame\n",
      "\n",
      "See the caveats in the documentation: https://pandas.pydata.org/pandas-docs/stable/user_guide/indexing.html#returning-a-view-versus-a-copy\n",
      "  df.dropna(subset=['Model'], inplace=True)\n"
     ]
    }
   ],
   "source": [
    "df.dropna(subset=['Model'], inplace=True)"
   ]
  },
  {
   "cell_type": "code",
   "execution_count": 98,
   "id": "99bbe5b9",
   "metadata": {},
   "outputs": [
    {
     "data": {
      "text/html": [
       "<div>\n",
       "<style scoped>\n",
       "    .dataframe tbody tr th:only-of-type {\n",
       "        vertical-align: middle;\n",
       "    }\n",
       "\n",
       "    .dataframe tbody tr th {\n",
       "        vertical-align: top;\n",
       "    }\n",
       "\n",
       "    .dataframe thead th {\n",
       "        text-align: right;\n",
       "    }\n",
       "</style>\n",
       "<table border=\"1\" class=\"dataframe\">\n",
       "  <thead>\n",
       "    <tr style=\"text-align: right;\">\n",
       "      <th></th>\n",
       "      <th>Model</th>\n",
       "      <th>Year</th>\n",
       "      <th>Model_Name</th>\n",
       "      <th>Description 2</th>\n",
       "      <th>Description</th>\n",
       "      <th>Description</th>\n",
       "    </tr>\n",
       "  </thead>\n",
       "  <tbody>\n",
       "    <tr>\n",
       "      <th>779</th>\n",
       "      <td>NXFW5ZH1PR00</td>\n",
       "      <td>CPO 2024</td>\n",
       "      <td>NEXO</td>\n",
       "      <td>NaN</td>\n",
       "      <td>NEXO</td>\n",
       "      <td>NaN</td>\n",
       "    </tr>\n",
       "    <tr>\n",
       "      <th>780</th>\n",
       "      <td>NXFW5ZH1UL00</td>\n",
       "      <td>CPO 2024</td>\n",
       "      <td>NEXO</td>\n",
       "      <td>NaN</td>\n",
       "      <td>NEXO</td>\n",
       "      <td>NaN</td>\n",
       "    </tr>\n",
       "  </tbody>\n",
       "</table>\n",
       "</div>"
      ],
      "text/plain": [
       "            Model      Year Model_Name Description 2 Description Description \n",
       "779  NXFW5ZH1PR00  CPO 2024       NEXO           NaN        NEXO          NaN\n",
       "780  NXFW5ZH1UL00  CPO 2024       NEXO           NaN        NEXO          NaN"
      ]
     },
     "execution_count": 98,
     "metadata": {},
     "output_type": "execute_result"
    }
   ],
   "source": [
    "df[df[\"Description 2\"].isnull()]"
   ]
  },
  {
   "cell_type": "code",
   "execution_count": 132,
   "id": "3a7cd550",
   "metadata": {},
   "outputs": [
    {
     "data": {
      "text/html": [
       "<div>\n",
       "<style scoped>\n",
       "    .dataframe tbody tr th:only-of-type {\n",
       "        vertical-align: middle;\n",
       "    }\n",
       "\n",
       "    .dataframe tbody tr th {\n",
       "        vertical-align: top;\n",
       "    }\n",
       "\n",
       "    .dataframe thead th {\n",
       "        text-align: right;\n",
       "    }\n",
       "</style>\n",
       "<table border=\"1\" class=\"dataframe\">\n",
       "  <thead>\n",
       "    <tr style=\"text-align: right;\">\n",
       "      <th></th>\n",
       "      <th>Model</th>\n",
       "      <th>Year</th>\n",
       "      <th>Model_Name</th>\n",
       "      <th>Description 2</th>\n",
       "      <th>Description</th>\n",
       "      <th>Description</th>\n",
       "    </tr>\n",
       "  </thead>\n",
       "  <tbody>\n",
       "    <tr>\n",
       "      <th>223</th>\n",
       "      <td>KOCW5V2BPR00</td>\n",
       "      <td>2024</td>\n",
       "      <td>Kona</td>\n",
       "      <td>2.0L Preferred FWD</td>\n",
       "      <td>NaN</td>\n",
       "      <td>Kona</td>\n",
       "    </tr>\n",
       "    <tr>\n",
       "      <th>224</th>\n",
       "      <td>KOCW5Q2BPR00</td>\n",
       "      <td>2024</td>\n",
       "      <td>Kona</td>\n",
       "      <td>2.0L Preferred AWD</td>\n",
       "      <td>NaN</td>\n",
       "      <td>Kona</td>\n",
       "    </tr>\n",
       "    <tr>\n",
       "      <th>225</th>\n",
       "      <td>KOCW5Q2BPRTR</td>\n",
       "      <td>2024</td>\n",
       "      <td>Kona</td>\n",
       "      <td>2.0L Preferred AWD with Trend Pkg</td>\n",
       "      <td>NaN</td>\n",
       "      <td>Kona</td>\n",
       "    </tr>\n",
       "    <tr>\n",
       "      <th>230</th>\n",
       "      <td>KEEW5ZE4PR00</td>\n",
       "      <td>2024</td>\n",
       "      <td>Kona EV</td>\n",
       "      <td>Preferred</td>\n",
       "      <td>NaN</td>\n",
       "      <td>Kona EV</td>\n",
       "    </tr>\n",
       "  </tbody>\n",
       "</table>\n",
       "</div>"
      ],
      "text/plain": [
       "            Model  Year Model_Name                      Description 2  \\\n",
       "223  KOCW5V2BPR00  2024       Kona                 2.0L Preferred FWD   \n",
       "224  KOCW5Q2BPR00  2024       Kona                 2.0L Preferred AWD   \n",
       "225  KOCW5Q2BPRTR  2024       Kona  2.0L Preferred AWD with Trend Pkg   \n",
       "230  KEEW5ZE4PR00  2024    Kona EV                          Preferred   \n",
       "\n",
       "    Description Description   \n",
       "223         NaN         Kona  \n",
       "224         NaN         Kona  \n",
       "225         NaN         Kona  \n",
       "230         NaN      Kona EV  "
      ]
     },
     "execution_count": 132,
     "metadata": {},
     "output_type": "execute_result"
    }
   ],
   "source": [
    "# df[df[\"Model_Name\"].str.contains(\"Kona\", case=False, na=False) & (df[\"Year\"] == \"2025\") & ~df[\"Model_Name\"].str.contains(\"EV\", case=False, na=False)]\n",
    "\n",
    "\n",
    "df[df[\"Model_Name\"].str.contains(\"Kona\", case=False, na=False) & (df[\"Year\"] == \"2024\") & df[\"Description 2\"].str.contains(\"Pref\", case=False, na=False)]\n",
    "\n"
   ]
  }
 ],
 "metadata": {
  "kernelspec": {
   "display_name": "Python 3",
   "language": "python",
   "name": "python3"
  },
  "language_info": {
   "codemirror_mode": {
    "name": "ipython",
    "version": 3
   },
   "file_extension": ".py",
   "mimetype": "text/x-python",
   "name": "python",
   "nbconvert_exporter": "python",
   "pygments_lexer": "ipython3",
   "version": "3.13.7"
  }
 },
 "nbformat": 4,
 "nbformat_minor": 5
}
